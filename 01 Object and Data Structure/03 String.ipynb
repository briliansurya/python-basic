{
 "cells": [
  {
   "cell_type": "markdown",
   "id": "150f16fa",
   "metadata": {},
   "source": [
    "# 03 String\n",
    "\n",
    "\n",
    "*String* digunakan untuk merekam informasi teks. String dalam Python sebenarnya adalah urutan, yang pada dasarnya berarti Python melacak setiap elemen dalam string sebagai urutan. Sebagai contoh, Python memahami string \"hello\" sebagai urutan huruf dalam urutan tertentu. Ini berarti kita akan dapat menggunakan indeks untuk mengambil huruf-huruf tertentu (seperti huruf pertama, atau huruf terakhir).\n",
    "\n",
    "Yang akan dibahas pada notebook ini adalah hal-hal berikut:\n",
    "1. Membuat *String*\n",
    "2. *Printing String*\n",
    "3. *String Indexing* dan *Slicing*\n",
    "4. *String Properties*\n",
    "5. *String Methods*\n",
    "6. *Print Formatting*"
   ]
  },
  {
   "cell_type": "code",
   "execution_count": null,
   "id": "5954abfa",
   "metadata": {},
   "outputs": [],
   "source": []
  }
 ],
 "metadata": {
  "kernelspec": {
   "display_name": "Python 3 (ipykernel)",
   "language": "python",
   "name": "python3"
  },
  "language_info": {
   "codemirror_mode": {
    "name": "ipython",
    "version": 3
   },
   "file_extension": ".py",
   "mimetype": "text/x-python",
   "name": "python",
   "nbconvert_exporter": "python",
   "pygments_lexer": "ipython3",
   "version": "3.9.7"
  }
 },
 "nbformat": 4,
 "nbformat_minor": 5
}
