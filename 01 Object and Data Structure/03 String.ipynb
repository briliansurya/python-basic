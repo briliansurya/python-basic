{
 "cells": [
  {
   "cell_type": "markdown",
   "id": "e95ab2a9",
   "metadata": {},
   "source": [
    "# 03 String\n",
    "\n",
    "\n",
    "*String* digunakan untuk merekam informasi teks. String dalam Python sebenarnya adalah urutan, yang pada dasarnya berarti Python melacak setiap elemen dalam string sebagai urutan. Sebagai contoh, Python memahami string \"hello\" sebagai urutan huruf dalam urutan tertentu. Ini berarti kita akan dapat menggunakan indeks untuk mengambil huruf-huruf tertentu (seperti huruf pertama, atau huruf terakhir).\n",
    "\n",
    "Yang akan dibahas pada notebook ini adalah hal-hal berikut:\n",
    "1. Membuat *String*\n",
    "2. *Printing String*\n",
    "3. *String Indexing*\n",
    "4. *String Properties*\n",
    "5. *String Methods*\n",
    "6. *Print Formatting*"
   ]
  },
  {
   "cell_type": "markdown",
   "id": "5d66bf6b",
   "metadata": {},
   "source": [
    "## Membuat String"
   ]
  },
  {
   "cell_type": "code",
   "execution_count": 2,
   "id": "4a3832b1",
   "metadata": {},
   "outputs": [
    {
     "data": {
      "text/plain": [
       "'Hello'"
      ]
     },
     "execution_count": 2,
     "metadata": {},
     "output_type": "execute_result"
    }
   ],
   "source": [
    "#Single word\n",
    "'Hello'"
   ]
  },
  {
   "cell_type": "code",
   "execution_count": null,
   "id": "87753e7b",
   "metadata": {},
   "outputs": [],
   "source": [
    "#Phrase\n",
    "'Hello world! Ini adalah frase'"
   ]
  },
  {
   "cell_type": "code",
   "execution_count": null,
   "id": "f9979a97",
   "metadata": {},
   "outputs": [],
   "source": [
    "#Kita juga bisa menggunakan double quote\n",
    "\"Dengan double quote, kita juga bisa membuat sebuah string\""
   ]
  },
  {
   "cell_type": "code",
   "execution_count": null,
   "id": "2c1d4379",
   "metadata": {},
   "outputs": [],
   "source": [
    "#Berhati-hati jika menggunakan single quote\n",
    "'Contohnya saat kita menuliskan nama seperti A'an, akan memunculkan error"
   ]
  },
  {
   "cell_type": "code",
   "execution_count": null,
   "id": "d2733578",
   "metadata": {},
   "outputs": [],
   "source": [
    "\"Untuk lebih aman, jika menuliskan A'an gunakan double quote\""
   ]
  },
  {
   "cell_type": "markdown",
   "id": "294936cb",
   "metadata": {},
   "source": [
    "## Printing String"
   ]
  },
  {
   "cell_type": "code",
   "execution_count": null,
   "id": "063e4f05",
   "metadata": {},
   "outputs": [],
   "source": [
    "#Simple declaration of String\n",
    "'Untuk mendeklarasikan string bisa menggunakan cara seperti ini'"
   ]
  },
  {
   "cell_type": "code",
   "execution_count": 3,
   "id": "b4586203",
   "metadata": {},
   "outputs": [
    {
     "data": {
      "text/plain": [
       "'Akan tetapi kita tidak bisa menggunakan cara ini'"
      ]
     },
     "execution_count": 3,
     "metadata": {},
     "output_type": "execute_result"
    }
   ],
   "source": [
    "'Akan tetapi kita tidak bisa menggunakan cara ini'\n",
    "'untuk menampilkan multiple string'"
   ]
  },
  {
   "cell_type": "markdown",
   "id": "d84415ab",
   "metadata": {},
   "source": [
    "Kita dapat menggunakan statement `print` untuk mencetak string."
   ]
  },
  {
   "cell_type": "code",
   "execution_count": 5,
   "id": "0b39760d",
   "metadata": {},
   "outputs": [
    {
     "name": "stdout",
     "output_type": "stream",
     "text": [
      "Coba menggunakan cara ini\n",
      "untuk menampilkan multiple string\n",
      "Gunakan \n",
      " untuk mencetak baris baru\n",
      "\n",
      "\n",
      "Sampai disini sudah paham kan\n"
     ]
    }
   ],
   "source": [
    "print('Coba menggunakan cara ini')\n",
    "print('untuk menampilkan multiple string')\n",
    "print('Gunakan \\n untuk mencetak baris baru')\n",
    "print('\\n')\n",
    "print('Sampai disini sudah paham kan')"
   ]
  },
  {
   "cell_type": "markdown",
   "id": "4e7a0ab9",
   "metadata": {},
   "source": [
    "### String length\n",
    "Untuk mengetahui panjangnya string, kita bisa menggunakan fungsi `len()`"
   ]
  },
  {
   "cell_type": "code",
   "execution_count": null,
   "id": "ac7d2837",
   "metadata": {},
   "outputs": [],
   "source": [
    "len('aku cinta Indonesia')"
   ]
  },
  {
   "cell_type": "markdown",
   "id": "45afd030",
   "metadata": {},
   "source": [
    "## String Indexing"
   ]
  },
  {
   "cell_type": "markdown",
   "id": "fb402b97",
   "metadata": {},
   "source": [
    "## String Properties"
   ]
  },
  {
   "cell_type": "code",
   "execution_count": null,
   "id": "c98ec437",
   "metadata": {},
   "outputs": [],
   "source": []
  },
  {
   "cell_type": "markdown",
   "id": "7b218636",
   "metadata": {},
   "source": [
    "## String Methods"
   ]
  },
  {
   "cell_type": "code",
   "execution_count": null,
   "id": "23c7ac71",
   "metadata": {},
   "outputs": [],
   "source": []
  },
  {
   "cell_type": "markdown",
   "id": "53a176da",
   "metadata": {},
   "source": [
    "## Print Formatting"
   ]
  },
  {
   "cell_type": "code",
   "execution_count": null,
   "id": "7ffda3fd",
   "metadata": {},
   "outputs": [],
   "source": []
  },
  {
   "cell_type": "code",
   "execution_count": null,
   "id": "b5349460",
   "metadata": {},
   "outputs": [],
   "source": []
  }
 ],
 "metadata": {
  "kernelspec": {
   "display_name": "Python 3 (ipykernel)",
   "language": "python",
   "name": "python3"
  },
  "language_info": {
   "codemirror_mode": {
    "name": "ipython",
    "version": 3
   },
   "file_extension": ".py",
   "mimetype": "text/x-python",
   "name": "python",
   "nbconvert_exporter": "python",
   "pygments_lexer": "ipython3",
   "version": "3.9.7"
  }
 },
 "nbformat": 4,
 "nbformat_minor": 5
}
