{
 "cells": [
  {
   "cell_type": "markdown",
   "id": "6c022994",
   "metadata": {},
   "source": [
    "# 03 String\n",
    "\n",
    "\n",
    "*String* digunakan untuk merekam informasi teks. String dalam Python sebenarnya adalah urutan, yang pada dasarnya berarti Python melacak setiap elemen dalam string sebagai urutan. Sebagai contoh, Python memahami string \"hello\" sebagai urutan huruf dalam urutan tertentu. Ini berarti kita akan dapat menggunakan indeks untuk mengambil huruf-huruf tertentu (seperti huruf pertama, atau huruf terakhir).\n",
    "\n",
    "Yang akan dibahas pada notebook ini adalah hal-hal berikut:\n",
    "1. Membuat *String*\n",
    "2. *Printing String*\n",
    "3. *String Indexing*\n",
    "4. *String Properties*\n",
    "5. *String Methods*\n",
    "6. *Print Formatting*"
   ]
  },
  {
   "cell_type": "markdown",
   "id": "4b5e443c",
   "metadata": {},
   "source": [
    "## Membuat String"
   ]
  },
  {
   "cell_type": "code",
   "execution_count": 1,
   "id": "256896b3",
   "metadata": {},
   "outputs": [
    {
     "data": {
      "text/plain": [
       "'Hello'"
      ]
     },
     "execution_count": 1,
     "metadata": {},
     "output_type": "execute_result"
    }
   ],
   "source": [
    "#Single word\n",
    "'Hello'"
   ]
  },
  {
   "cell_type": "code",
   "execution_count": 2,
   "id": "6f848ff8",
   "metadata": {},
   "outputs": [
    {
     "data": {
      "text/plain": [
       "'Hello world! Ini adalah frase'"
      ]
     },
     "execution_count": 2,
     "metadata": {},
     "output_type": "execute_result"
    }
   ],
   "source": [
    "#Phrase\n",
    "'Hello world! Ini adalah frase'"
   ]
  },
  {
   "cell_type": "code",
   "execution_count": 3,
   "id": "18cc928b",
   "metadata": {},
   "outputs": [
    {
     "data": {
      "text/plain": [
       "'Dengan double quote, kita juga bisa membuat sebuah string'"
      ]
     },
     "execution_count": 3,
     "metadata": {},
     "output_type": "execute_result"
    }
   ],
   "source": [
    "#Kita juga bisa menggunakan double quote\n",
    "\"Dengan double quote, kita juga bisa membuat sebuah string\""
   ]
  },
  {
   "cell_type": "code",
   "execution_count": 4,
   "id": "3db42779",
   "metadata": {},
   "outputs": [
    {
     "ename": "SyntaxError",
     "evalue": "invalid syntax (3592765279.py, line 2)",
     "output_type": "error",
     "traceback": [
      "\u001b[0;36m  File \u001b[0;32m\"/var/folders/3d/c8q4wk5d4836yjvnnpyk2z3r0000gn/T/ipykernel_91320/3592765279.py\"\u001b[0;36m, line \u001b[0;32m2\u001b[0m\n\u001b[0;31m    'Contohnya saat kita menuliskan nama seperti A'an, akan memunculkan error\u001b[0m\n\u001b[0m                                                   ^\u001b[0m\n\u001b[0;31mSyntaxError\u001b[0m\u001b[0;31m:\u001b[0m invalid syntax\n"
     ]
    }
   ],
   "source": [
    "#Berhati-hati jika menggunakan single quote\n",
    "'Contohnya saat kita menuliskan nama seperti A'an, akan memunculkan error"
   ]
  },
  {
   "cell_type": "code",
   "execution_count": 5,
   "id": "824d22eb",
   "metadata": {},
   "outputs": [
    {
     "data": {
      "text/plain": [
       "\"Untuk lebih aman, jika menuliskan A'an gunakan double quote\""
      ]
     },
     "execution_count": 5,
     "metadata": {},
     "output_type": "execute_result"
    }
   ],
   "source": [
    "\"Untuk lebih aman, jika menuliskan A'an gunakan double quote\""
   ]
  },
  {
   "cell_type": "markdown",
   "id": "b62e5a2a",
   "metadata": {},
   "source": [
    "## Printing String"
   ]
  },
  {
   "cell_type": "code",
   "execution_count": 6,
   "id": "2b948f8c",
   "metadata": {},
   "outputs": [
    {
     "data": {
      "text/plain": [
       "'Untuk mendeklarasikan string bisa menggunakan cara seperti ini'"
      ]
     },
     "execution_count": 6,
     "metadata": {},
     "output_type": "execute_result"
    }
   ],
   "source": [
    "#Simple declaration of String\n",
    "'Untuk mendeklarasikan string bisa menggunakan cara seperti ini'"
   ]
  },
  {
   "cell_type": "code",
   "execution_count": 7,
   "id": "5b54afbd",
   "metadata": {},
   "outputs": [
    {
     "data": {
      "text/plain": [
       "'untuk menampilkan multiple string'"
      ]
     },
     "execution_count": 7,
     "metadata": {},
     "output_type": "execute_result"
    }
   ],
   "source": [
    "'Akan tetapi kita tidak bisa menggunakan cara ini'\n",
    "'untuk menampilkan multiple string'"
   ]
  },
  {
   "cell_type": "markdown",
   "id": "074c5c42",
   "metadata": {},
   "source": [
    "Kita dapat menggunakan statement `print` untuk mencetak string."
   ]
  },
  {
   "cell_type": "code",
   "execution_count": null,
   "id": "fb99a186",
   "metadata": {},
   "outputs": [],
   "source": [
    "print('Coba menggunakan cara ini')\n",
    "print('untuk menampilkan multiple string')\n",
    "print('Gunakan \\n untuk mencetak baris baru')\n",
    "print('\\n')\n",
    "print('Sampai disini sudah paham kan')"
   ]
  },
  {
   "cell_type": "markdown",
   "id": "72dd9e74",
   "metadata": {},
   "source": [
    "### String length\n",
    "Untuk mengetahui panjangnya string, kita bisa menggunakan fungsi `len()`"
   ]
  },
  {
   "cell_type": "code",
   "execution_count": null,
   "id": "78104ddc",
   "metadata": {},
   "outputs": [],
   "source": [
    "len('aku cinta Indonesia')"
   ]
  },
  {
   "cell_type": "markdown",
   "id": "25b45ba6",
   "metadata": {},
   "source": [
    "## String Indexing & Slicing\n",
    "\n",
    "String pada Python adalah sebuah urutan, yang berarti Python dapat menggunakan indeks untuk mengambil bagian dari urutan tersebut.\n",
    "\n",
    "Dalam Python, kita menggunakan tanda kurung kotak `[]` setelah suatu objek untuk memanggil indeks. Indeks dimulai dari 0. Berikut beberapa contoh pengindeksan."
   ]
  },
  {
   "cell_type": "code",
   "execution_count": null,
   "id": "d9c78c96",
   "metadata": {},
   "outputs": [],
   "source": [
    "# Assign a as a string\n",
    "a = \"Hello world\""
   ]
  },
  {
   "cell_type": "code",
   "execution_count": null,
   "id": "0932cdc5",
   "metadata": {},
   "outputs": [],
   "source": [
    "#Check\n",
    "a"
   ]
  },
  {
   "cell_type": "code",
   "execution_count": null,
   "id": "d8a05b14",
   "metadata": {},
   "outputs": [],
   "source": [
    "#Print object\n",
    "print(a)"
   ]
  },
  {
   "cell_type": "markdown",
   "id": "456d9267",
   "metadata": {},
   "source": [
    "Let's starting indexing!"
   ]
  },
  {
   "cell_type": "code",
   "execution_count": null,
   "id": "f741cda0",
   "metadata": {},
   "outputs": [],
   "source": [
    "a[0]"
   ]
  },
  {
   "cell_type": "code",
   "execution_count": null,
   "id": "ffef56be",
   "metadata": {},
   "outputs": [],
   "source": [
    "a[1]"
   ]
  },
  {
   "cell_type": "code",
   "execution_count": null,
   "id": "06a127e6",
   "metadata": {},
   "outputs": [],
   "source": [
    "a[2]"
   ]
  },
  {
   "cell_type": "markdown",
   "id": "cb519db3",
   "metadata": {},
   "source": [
    "Kita dapat menggunakan tanda `:` untuk melakukan irisan (slicing) yang mengambil semua elemen hingga titik yang ditentukan. Sebagai contoh:"
   ]
  },
  {
   "cell_type": "code",
   "execution_count": null,
   "id": "55f63002",
   "metadata": {},
   "outputs": [],
   "source": [
    "# Ambil semua elemen setelah elemen pertama hingga panjang a yang merupakan len(s).\n",
    "a[1:]"
   ]
  },
  {
   "cell_type": "code",
   "execution_count": null,
   "id": "eec6c845",
   "metadata": {},
   "outputs": [],
   "source": [
    "# Perlu dicatat bahwa tidak ada perubahan pada a yang asli.\n",
    "a"
   ]
  },
  {
   "cell_type": "code",
   "execution_count": null,
   "id": "aef68403",
   "metadata": {},
   "outputs": [],
   "source": [
    "# Ambil semua elemen hingga indeks ke-4.\n",
    "a[:4]"
   ]
  },
  {
   "cell_type": "markdown",
   "id": "fa155e64",
   "metadata": {},
   "source": [
    "## String Properties"
   ]
  },
  {
   "cell_type": "code",
   "execution_count": null,
   "id": "3e4fff49",
   "metadata": {},
   "outputs": [],
   "source": []
  },
  {
   "cell_type": "markdown",
   "id": "6aa9c79d",
   "metadata": {},
   "source": [
    "## String Methods"
   ]
  },
  {
   "cell_type": "code",
   "execution_count": null,
   "id": "152654be",
   "metadata": {},
   "outputs": [],
   "source": []
  },
  {
   "cell_type": "markdown",
   "id": "66fdde88",
   "metadata": {},
   "source": [
    "## Print Formatting"
   ]
  },
  {
   "cell_type": "code",
   "execution_count": null,
   "id": "b20c201c",
   "metadata": {},
   "outputs": [],
   "source": []
  },
  {
   "cell_type": "code",
   "execution_count": null,
   "id": "68b52081",
   "metadata": {},
   "outputs": [],
   "source": []
  }
 ],
 "metadata": {
  "kernelspec": {
   "display_name": "Python 3 (ipykernel)",
   "language": "python",
   "name": "python3"
  },
  "language_info": {
   "codemirror_mode": {
    "name": "ipython",
    "version": 3
   },
   "file_extension": ".py",
   "mimetype": "text/x-python",
   "name": "python",
   "nbconvert_exporter": "python",
   "pygments_lexer": "ipython3",
   "version": "3.9.7"
  }
 },
 "nbformat": 4,
 "nbformat_minor": 5
}
