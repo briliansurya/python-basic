{
 "cells": [
  {
   "cell_type": "markdown",
   "id": "6c022994",
   "metadata": {},
   "source": [
    "# 03 String\n",
    "\n",
    "\n",
    "*String* digunakan untuk merekam informasi teks. String dalam Python sebenarnya adalah urutan, yang pada dasarnya berarti Python melacak setiap elemen dalam string sebagai urutan. Sebagai contoh, Python memahami string \"hello\" sebagai urutan huruf dalam urutan tertentu. Ini berarti kita akan dapat menggunakan indeks untuk mengambil huruf-huruf tertentu (seperti huruf pertama, atau huruf terakhir).\n",
    "\n",
    "Yang akan dibahas pada notebook ini adalah hal-hal berikut:\n",
    "1. Membuat *String*\n",
    "2. *Printing String*\n",
    "3. *String Indexing*\n",
    "4. *String Properties*\n",
    "5. *String Methods*\n",
    "6. *Print Formatting*"
   ]
  },
  {
   "cell_type": "markdown",
   "id": "4b5e443c",
   "metadata": {},
   "source": [
    "## Membuat String"
   ]
  },
  {
   "cell_type": "code",
   "execution_count": 1,
   "id": "256896b3",
   "metadata": {},
   "outputs": [
    {
     "data": {
      "text/plain": [
       "'Hello'"
      ]
     },
     "execution_count": 1,
     "metadata": {},
     "output_type": "execute_result"
    }
   ],
   "source": [
    "#Single word\n",
    "'Hello'"
   ]
  },
  {
   "cell_type": "code",
   "execution_count": 2,
   "id": "6f848ff8",
   "metadata": {},
   "outputs": [
    {
     "data": {
      "text/plain": [
       "'Hello world! Ini adalah frase'"
      ]
     },
     "execution_count": 2,
     "metadata": {},
     "output_type": "execute_result"
    }
   ],
   "source": [
    "#Phrase\n",
    "'Hello world! Ini adalah frase'"
   ]
  },
  {
   "cell_type": "code",
   "execution_count": 3,
   "id": "18cc928b",
   "metadata": {},
   "outputs": [
    {
     "data": {
      "text/plain": [
       "'Dengan double quote, kita juga bisa membuat sebuah string'"
      ]
     },
     "execution_count": 3,
     "metadata": {},
     "output_type": "execute_result"
    }
   ],
   "source": [
    "#Kita juga bisa menggunakan double quote\n",
    "\"Dengan double quote, kita juga bisa membuat sebuah string\""
   ]
  },
  {
   "cell_type": "code",
   "execution_count": 4,
   "id": "3db42779",
   "metadata": {},
   "outputs": [
    {
     "ename": "SyntaxError",
     "evalue": "invalid syntax (3592765279.py, line 2)",
     "output_type": "error",
     "traceback": [
      "\u001b[0;36m  File \u001b[0;32m\"/var/folders/3d/c8q4wk5d4836yjvnnpyk2z3r0000gn/T/ipykernel_91320/3592765279.py\"\u001b[0;36m, line \u001b[0;32m2\u001b[0m\n\u001b[0;31m    'Contohnya saat kita menuliskan nama seperti A'an, akan memunculkan error\u001b[0m\n\u001b[0m                                                   ^\u001b[0m\n\u001b[0;31mSyntaxError\u001b[0m\u001b[0;31m:\u001b[0m invalid syntax\n"
     ]
    }
   ],
   "source": [
    "#Berhati-hati jika menggunakan single quote\n",
    "'Contohnya saat kita menuliskan nama seperti A'an, akan memunculkan error"
   ]
  },
  {
   "cell_type": "code",
   "execution_count": 5,
   "id": "824d22eb",
   "metadata": {},
   "outputs": [
    {
     "data": {
      "text/plain": [
       "\"Untuk lebih aman, jika menuliskan A'an gunakan double quote\""
      ]
     },
     "execution_count": 5,
     "metadata": {},
     "output_type": "execute_result"
    }
   ],
   "source": [
    "\"Untuk lebih aman, jika menuliskan A'an gunakan double quote\""
   ]
  },
  {
   "cell_type": "markdown",
   "id": "b62e5a2a",
   "metadata": {},
   "source": [
    "## Printing String"
   ]
  },
  {
   "cell_type": "code",
   "execution_count": 6,
   "id": "2b948f8c",
   "metadata": {},
   "outputs": [
    {
     "data": {
      "text/plain": [
       "'Untuk mendeklarasikan string bisa menggunakan cara seperti ini'"
      ]
     },
     "execution_count": 6,
     "metadata": {},
     "output_type": "execute_result"
    }
   ],
   "source": [
    "#Simple declaration of String\n",
    "'Untuk mendeklarasikan string bisa menggunakan cara seperti ini'"
   ]
  },
  {
   "cell_type": "code",
   "execution_count": 7,
   "id": "5b54afbd",
   "metadata": {},
   "outputs": [
    {
     "data": {
      "text/plain": [
       "'untuk menampilkan multiple string'"
      ]
     },
     "execution_count": 7,
     "metadata": {},
     "output_type": "execute_result"
    }
   ],
   "source": [
    "'Akan tetapi kita tidak bisa menggunakan cara ini'\n",
    "'untuk menampilkan multiple string'"
   ]
  },
  {
   "cell_type": "markdown",
   "id": "074c5c42",
   "metadata": {},
   "source": [
    "Kita dapat menggunakan statement `print` untuk mencetak string."
   ]
  },
  {
   "cell_type": "code",
   "execution_count": 8,
   "id": "fb99a186",
   "metadata": {},
   "outputs": [
    {
     "name": "stdout",
     "output_type": "stream",
     "text": [
      "Coba menggunakan cara ini\n",
      "untuk menampilkan multiple string\n",
      "Gunakan \n",
      " untuk mencetak baris baru\n",
      "\n",
      "\n",
      "Sampai disini sudah paham kan\n"
     ]
    }
   ],
   "source": [
    "print('Coba menggunakan cara ini')\n",
    "print('untuk menampilkan multiple string')\n",
    "print('Gunakan \\n untuk mencetak baris baru')\n",
    "print('\\n')\n",
    "print('Sampai disini sudah paham kan')"
   ]
  },
  {
   "cell_type": "markdown",
   "id": "72dd9e74",
   "metadata": {},
   "source": [
    "### String length\n",
    "Untuk mengetahui panjangnya string, kita bisa menggunakan fungsi `len()`"
   ]
  },
  {
   "cell_type": "code",
   "execution_count": 9,
   "id": "78104ddc",
   "metadata": {},
   "outputs": [
    {
     "data": {
      "text/plain": [
       "19"
      ]
     },
     "execution_count": 9,
     "metadata": {},
     "output_type": "execute_result"
    }
   ],
   "source": [
    "len('aku cinta Indonesia')"
   ]
  },
  {
   "cell_type": "markdown",
   "id": "25b45ba6",
   "metadata": {},
   "source": [
    "## String Indexing & Slicing\n",
    "\n",
    "String pada Python adalah sebuah urutan, yang berarti Python dapat menggunakan indeks untuk mengambil bagian dari urutan tersebut.\n",
    "\n",
    "Dalam Python, kita menggunakan tanda kurung kotak `[]` setelah suatu objek untuk memanggil indeks. Indeks dimulai dari 0. Berikut beberapa contoh pengindeksan."
   ]
  },
  {
   "cell_type": "code",
   "execution_count": 10,
   "id": "d9c78c96",
   "metadata": {},
   "outputs": [],
   "source": [
    "# Assign a as a string\n",
    "a = \"Hello world\""
   ]
  },
  {
   "cell_type": "code",
   "execution_count": 11,
   "id": "fa2135a6",
   "metadata": {},
   "outputs": [
    {
     "data": {
      "text/plain": [
       "'Hello world'"
      ]
     },
     "execution_count": 11,
     "metadata": {},
     "output_type": "execute_result"
    }
   ],
   "source": [
    "#Check\n",
    "a"
   ]
  },
  {
   "cell_type": "code",
   "execution_count": 12,
   "id": "caeee90e",
   "metadata": {},
   "outputs": [
    {
     "name": "stdout",
     "output_type": "stream",
     "text": [
      "Hello world\n"
     ]
    }
   ],
   "source": [
    "#Print object\n",
    "print(a)"
   ]
  },
  {
   "cell_type": "markdown",
   "id": "9adc81af",
   "metadata": {},
   "source": [
    "Let's starting indexing!"
   ]
  },
  {
   "cell_type": "code",
   "execution_count": 13,
   "id": "7aaa44a5",
   "metadata": {},
   "outputs": [
    {
     "data": {
      "text/plain": [
       "'H'"
      ]
     },
     "execution_count": 13,
     "metadata": {},
     "output_type": "execute_result"
    }
   ],
   "source": [
    "a[0]"
   ]
  },
  {
   "cell_type": "code",
   "execution_count": 14,
   "id": "83276098",
   "metadata": {},
   "outputs": [
    {
     "data": {
      "text/plain": [
       "'e'"
      ]
     },
     "execution_count": 14,
     "metadata": {},
     "output_type": "execute_result"
    }
   ],
   "source": [
    "a[1]"
   ]
  },
  {
   "cell_type": "code",
   "execution_count": 15,
   "id": "5285c1dc",
   "metadata": {},
   "outputs": [
    {
     "data": {
      "text/plain": [
       "'l'"
      ]
     },
     "execution_count": 15,
     "metadata": {},
     "output_type": "execute_result"
    }
   ],
   "source": [
    "a[2]"
   ]
  },
  {
   "cell_type": "markdown",
   "id": "c833bba0",
   "metadata": {},
   "source": [
    "Kita dapat menggunakan tanda `:` untuk melakukan irisan (slicing) yang mengambil semua elemen hingga titik yang ditentukan. Sebagai contoh:"
   ]
  },
  {
   "cell_type": "code",
   "execution_count": 16,
   "id": "e4784370",
   "metadata": {},
   "outputs": [
    {
     "data": {
      "text/plain": [
       "'ello world'"
      ]
     },
     "execution_count": 16,
     "metadata": {},
     "output_type": "execute_result"
    }
   ],
   "source": [
    "# Ambil semua elemen setelah elemen pertama hingga panjang a yang merupakan len(s).\n",
    "a[1:]"
   ]
  },
  {
   "cell_type": "code",
   "execution_count": 17,
   "id": "fb154cf3",
   "metadata": {},
   "outputs": [
    {
     "data": {
      "text/plain": [
       "'Hello world'"
      ]
     },
     "execution_count": 17,
     "metadata": {},
     "output_type": "execute_result"
    }
   ],
   "source": [
    "# Perlu dicatat bahwa tidak ada perubahan pada a yang asli.\n",
    "a"
   ]
  },
  {
   "cell_type": "code",
   "execution_count": 18,
   "id": "24a1f18a",
   "metadata": {},
   "outputs": [
    {
     "data": {
      "text/plain": [
       "'Hell'"
      ]
     },
     "execution_count": 18,
     "metadata": {},
     "output_type": "execute_result"
    }
   ],
   "source": [
    "# Ambil semua elemen hingga indeks ke-4.\n",
    "a[:4]"
   ]
  },
  {
   "cell_type": "code",
   "execution_count": 19,
   "id": "9535f253",
   "metadata": {},
   "outputs": [
    {
     "data": {
      "text/plain": [
       "'Hello world'"
      ]
     },
     "execution_count": 19,
     "metadata": {},
     "output_type": "execute_result"
    }
   ],
   "source": [
    "#Everything\n",
    "a[:]"
   ]
  },
  {
   "cell_type": "code",
   "execution_count": 21,
   "id": "e306b08c",
   "metadata": {},
   "outputs": [
    {
     "data": {
      "text/plain": [
       "'d'"
      ]
     },
     "execution_count": 21,
     "metadata": {},
     "output_type": "execute_result"
    }
   ],
   "source": [
    "#Last character\n",
    "a[-1]"
   ]
  },
  {
   "cell_type": "code",
   "execution_count": 22,
   "id": "8e5f8f50",
   "metadata": {},
   "outputs": [
    {
     "data": {
      "text/plain": [
       "'Hello worl'"
      ]
     },
     "execution_count": 22,
     "metadata": {},
     "output_type": "execute_result"
    }
   ],
   "source": [
    "# Mengambil sembua kecuali karakter terakhir\n",
    "a[:-1]"
   ]
  },
  {
   "cell_type": "code",
   "execution_count": 26,
   "id": "28fc5c8a",
   "metadata": {},
   "outputs": [
    {
     "data": {
      "text/plain": [
       "'dlrow olleH'"
      ]
     },
     "execution_count": 26,
     "metadata": {},
     "output_type": "execute_result"
    }
   ],
   "source": [
    "# Print backward\n",
    "a[::-1]"
   ]
  },
  {
   "cell_type": "markdown",
   "id": "fa155e64",
   "metadata": {},
   "source": [
    "## String Properties\n",
    "\n",
    "Penting untuk dicatat bahwa string memiliki *property* penting yang dikenal sebagai *imutabilitas*. Ini berarti bahwa setelah sebuah string dibuat, elemen-elemen di dalamnya tidak dapat diubah atau digantikan. Sebagai contoh:"
   ]
  },
  {
   "cell_type": "code",
   "execution_count": 27,
   "id": "feed798d",
   "metadata": {},
   "outputs": [
    {
     "data": {
      "text/plain": [
       "'Hello world'"
      ]
     },
     "execution_count": 27,
     "metadata": {},
     "output_type": "execute_result"
    }
   ],
   "source": [
    "a"
   ]
  },
  {
   "cell_type": "code",
   "execution_count": 29,
   "id": "fb154074",
   "metadata": {},
   "outputs": [
    {
     "ename": "NameError",
     "evalue": "name 's' is not defined",
     "output_type": "error",
     "traceback": [
      "\u001b[0;31m---------------------------------------------------------------------------\u001b[0m",
      "\u001b[0;31mNameError\u001b[0m                                 Traceback (most recent call last)",
      "\u001b[0;32m/var/folders/3d/c8q4wk5d4836yjvnnpyk2z3r0000gn/T/ipykernel_91320/267257199.py\u001b[0m in \u001b[0;36m<module>\u001b[0;34m\u001b[0m\n\u001b[1;32m      1\u001b[0m \u001b[0;31m# Kita coba merubah huruf pertama menjadi 'x'\u001b[0m\u001b[0;34m\u001b[0m\u001b[0;34m\u001b[0m\u001b[0m\n\u001b[0;32m----> 2\u001b[0;31m \u001b[0ms\u001b[0m\u001b[0;34m[\u001b[0m\u001b[0;36m0\u001b[0m\u001b[0;34m]\u001b[0m \u001b[0;34m=\u001b[0m \u001b[0;34m'x'\u001b[0m\u001b[0;34m\u001b[0m\u001b[0;34m\u001b[0m\u001b[0m\n\u001b[0m",
      "\u001b[0;31mNameError\u001b[0m: name 's' is not defined"
     ]
    }
   ],
   "source": [
    "# Kita coba merubah huruf pertama menjadi 'x'\n",
    "s[0] = 'x'"
   ]
  },
  {
   "cell_type": "markdown",
   "id": "a8c551a3",
   "metadata": {},
   "source": [
    "Perhatikan bagaimana pesan kesalahan secara langsung memberi tahu kita tentang apa yang tidak dapat kita lakukan, yaitu mengubah item assignment. Salah satu hal yang dapat kita lakukan adalah menggabungkan string!"
   ]
  },
  {
   "cell_type": "code",
   "execution_count": 31,
   "id": "de6d3ca8",
   "metadata": {},
   "outputs": [
    {
     "data": {
      "text/plain": [
       "'Hello world from the other side!!'"
      ]
     },
     "execution_count": 31,
     "metadata": {},
     "output_type": "execute_result"
    }
   ],
   "source": [
    "#Concatenate strings!\n",
    "a + ' from the other side!!'"
   ]
  },
  {
   "cell_type": "code",
   "execution_count": 32,
   "id": "4a5f2f9c",
   "metadata": {},
   "outputs": [],
   "source": [
    "#Reassign dengan concatenate stringa\n",
    "a = a + ' from the other side'"
   ]
  },
  {
   "cell_type": "code",
   "execution_count": 33,
   "id": "df26c7e0",
   "metadata": {},
   "outputs": [
    {
     "data": {
      "text/plain": [
       "'Hello world from the other side'"
      ]
     },
     "execution_count": 33,
     "metadata": {},
     "output_type": "execute_result"
    }
   ],
   "source": [
    "a"
   ]
  },
  {
   "cell_type": "markdown",
   "id": "75c9a77e",
   "metadata": {},
   "source": [
    "Kita dapat menggunakan simbol perkalian untuk membuat pengulangan!"
   ]
  },
  {
   "cell_type": "code",
   "execution_count": null,
   "id": "fe650e97",
   "metadata": {},
   "outputs": [],
   "source": [
    "lett"
   ]
  },
  {
   "cell_type": "markdown",
   "id": "6aa9c79d",
   "metadata": {},
   "source": [
    "## String Methods"
   ]
  },
  {
   "cell_type": "code",
   "execution_count": null,
   "id": "152654be",
   "metadata": {},
   "outputs": [],
   "source": []
  },
  {
   "cell_type": "markdown",
   "id": "66fdde88",
   "metadata": {},
   "source": [
    "## Print Formatting"
   ]
  },
  {
   "cell_type": "code",
   "execution_count": null,
   "id": "b20c201c",
   "metadata": {},
   "outputs": [],
   "source": []
  },
  {
   "cell_type": "code",
   "execution_count": null,
   "id": "68b52081",
   "metadata": {},
   "outputs": [],
   "source": []
  }
 ],
 "metadata": {
  "kernelspec": {
   "display_name": "Python 3 (ipykernel)",
   "language": "python",
   "name": "python3"
  },
  "language_info": {
   "codemirror_mode": {
    "name": "ipython",
    "version": 3
   },
   "file_extension": ".py",
   "mimetype": "text/x-python",
   "name": "python",
   "nbconvert_exporter": "python",
   "pygments_lexer": "ipython3",
   "version": "3.9.7"
  }
 },
 "nbformat": 4,
 "nbformat_minor": 5
}
