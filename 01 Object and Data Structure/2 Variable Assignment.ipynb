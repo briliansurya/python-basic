{
 "cells": [
  {
   "cell_type": "markdown",
   "id": "8b37b6cd",
   "metadata": {},
   "source": [
    "# 02 Variable Assignment\n",
    "\n",
    "\n",
    "### Dynamic Typing\n",
    "Tidak diharuskan menulis tipe data ketika membuat variabel. \n",
    "\n",
    "#### Kelebihan\n",
    "1. Penulisan kode lebih cepat\n",
    "2. Penyusunan logika lebih mudah\n",
    "\n",
    "#### Kekurangan\n",
    "1. Rawan runtime error \n",
    "2. Kode sulit dibaca\n",
    "3. Relatif lebih lambat "
   ]
  },
  {
   "cell_type": "code",
   "execution_count": 1,
   "id": "f60ae6b2",
   "metadata": {},
   "outputs": [],
   "source": [
    "a = 2"
   ]
  },
  {
   "cell_type": "code",
   "execution_count": 2,
   "id": "b2f5dab9",
   "metadata": {},
   "outputs": [
    {
     "data": {
      "text/plain": [
       "2"
      ]
     },
     "execution_count": 2,
     "metadata": {},
     "output_type": "execute_result"
    }
   ],
   "source": [
    "a"
   ]
  },
  {
   "cell_type": "code",
   "execution_count": 4,
   "id": "24bd87e7",
   "metadata": {},
   "outputs": [],
   "source": [
    "a = {'Jakarta', 'Bandung'}"
   ]
  },
  {
   "cell_type": "code",
   "execution_count": 5,
   "id": "ea8956c8",
   "metadata": {},
   "outputs": [
    {
     "data": {
      "text/plain": [
       "{'Bandung', 'Jakarta'}"
      ]
     },
     "execution_count": 5,
     "metadata": {},
     "output_type": "execute_result"
    }
   ],
   "source": [
    "a"
   ]
  },
  {
   "cell_type": "markdown",
   "id": "6f6dfa6e",
   "metadata": {},
   "source": [
    "### Assigning Variables\n",
    "\n",
    "*Variable Assignment* dengan cara `nama = objek`, tanda sama dengan `=` adalah *assignment operator*\n",
    "\n",
    "#### Aturan penamaan variable\n",
    "Aturan penulisan variabel dalam Python adalah sebagai berikut:\n",
    "1. Karakter pertama harus berupa huruf atau garis bawah/underscore ( _ ) dan tidak boleh angka.\n",
    "2. Karakter selanjutnya dapat berupa huruf, garis bawah/underscore ( _ ) atau angka.\n",
    "3. Karakter pada nama variabel bersifat sensitif (*case-sensitif*). Artinya huruf kecil dan huruf besar dibedakan. Sebagai contoh, variabel `nama` dan `Nama`adalah variabel yang berbeda"
   ]
  },
  {
   "cell_type": "code",
   "execution_count": null,
   "id": "11d02455",
   "metadata": {},
   "outputs": [],
   "source": []
  }
 ],
 "metadata": {
  "kernelspec": {
   "display_name": "Python 3 (ipykernel)",
   "language": "python",
   "name": "python3"
  },
  "language_info": {
   "codemirror_mode": {
    "name": "ipython",
    "version": 3
   },
   "file_extension": ".py",
   "mimetype": "text/x-python",
   "name": "python",
   "nbconvert_exporter": "python",
   "pygments_lexer": "ipython3",
   "version": "3.9.7"
  }
 },
 "nbformat": 4,
 "nbformat_minor": 5
}
