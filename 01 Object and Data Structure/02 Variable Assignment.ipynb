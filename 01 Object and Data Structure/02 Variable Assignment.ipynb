{
 "cells": [
  {
   "cell_type": "markdown",
   "id": "38d28432",
   "metadata": {},
   "source": [
    "# 02 Variable Assignment\n",
    "\n",
    "\n",
    "### Dynamic Typing\n",
    "Tidak diharuskan menulis tipe data ketika membuat variabel. \n",
    "\n",
    "#### Kelebihan\n",
    "1. Penulisan kode lebih cepat\n",
    "2. Penyusunan logika lebih mudah\n",
    "\n",
    "#### Kekurangan\n",
    "1. Rawan runtime error \n",
    "2. Kode sulit dibaca\n",
    "3. Relatif lebih lambat "
   ]
  },
  {
   "cell_type": "code",
   "execution_count": 1,
   "id": "9426681a",
   "metadata": {},
   "outputs": [],
   "source": [
    "a = 2"
   ]
  },
  {
   "cell_type": "code",
   "execution_count": 2,
   "id": "5c780871",
   "metadata": {},
   "outputs": [
    {
     "data": {
      "text/plain": [
       "2"
      ]
     },
     "execution_count": 2,
     "metadata": {},
     "output_type": "execute_result"
    }
   ],
   "source": [
    "a"
   ]
  },
  {
   "cell_type": "code",
   "execution_count": 4,
   "id": "77dc093f",
   "metadata": {},
   "outputs": [],
   "source": [
    "a = {'Jakarta', 'Bandung'}"
   ]
  },
  {
   "cell_type": "code",
   "execution_count": 5,
   "id": "5e059491",
   "metadata": {},
   "outputs": [
    {
     "data": {
      "text/plain": [
       "{'Bandung', 'Jakarta'}"
      ]
     },
     "execution_count": 5,
     "metadata": {},
     "output_type": "execute_result"
    }
   ],
   "source": [
    "a"
   ]
  },
  {
   "cell_type": "markdown",
   "id": "d946b67e",
   "metadata": {},
   "source": [
    "### Assigning Variables\n",
    "\n",
    "*Variable Assignment* dengan cara `nama = objek`, tanda sama dengan `=` adalah *assignment operator*\n",
    "\n",
    "#### Aturan penamaan variable\n",
    "Aturan penulisan variabel dalam Python adalah sebagai berikut:\n",
    "1. Karakter pertama harus berupa huruf atau garis bawah/underscore ( _ ) dan tidak boleh angka.\n",
    "2. Karakter selanjutnya dapat berupa huruf, garis bawah/underscore ( _ ) atau angka.\n",
    "3. Karakter pada nama variabel bersifat sensitif (*case-sensitif*). Artinya huruf kecil dan huruf besar dibedakan. Sebagai contoh, variabel `nama` dan `Nama`adalah variabel yang berbeda\n",
    "4. Nama tidak boleh ada spasi, gunakan garis bawah/underscore ( _ )\n",
    "5. Nama tidak boleh ada simbol berikut :\n",
    "    `:'\",<>/?|\\!@#%^&*~-+`\n",
    "6. Hindari menggunakan Python built-in keyword `list` dan `str`\n",
    "7. Hindari menggunakan *single* karakter"
   ]
  },
  {
   "cell_type": "code",
   "execution_count": 6,
   "id": "eff74808",
   "metadata": {},
   "outputs": [],
   "source": [
    "#Assigning Variable\n",
    "a = 5"
   ]
  },
  {
   "cell_type": "code",
   "execution_count": 7,
   "id": "e6152659",
   "metadata": {},
   "outputs": [
    {
     "data": {
      "text/plain": [
       "5"
      ]
     },
     "execution_count": 7,
     "metadata": {},
     "output_type": "execute_result"
    }
   ],
   "source": [
    "a"
   ]
  },
  {
   "cell_type": "code",
   "execution_count": 8,
   "id": "0b7d6306",
   "metadata": {},
   "outputs": [
    {
     "data": {
      "text/plain": [
       "10"
      ]
     },
     "execution_count": 8,
     "metadata": {},
     "output_type": "execute_result"
    }
   ],
   "source": [
    "a + a"
   ]
  },
  {
   "cell_type": "markdown",
   "id": "62a30fe4",
   "metadata": {},
   "source": [
    "### Reassign Variable"
   ]
  },
  {
   "cell_type": "code",
   "execution_count": 9,
   "id": "a6db210a",
   "metadata": {},
   "outputs": [],
   "source": [
    "a = a + 10"
   ]
  },
  {
   "cell_type": "code",
   "execution_count": 10,
   "id": "576d51dc",
   "metadata": {},
   "outputs": [
    {
     "data": {
      "text/plain": [
       "15"
      ]
     },
     "execution_count": 10,
     "metadata": {},
     "output_type": "execute_result"
    }
   ],
   "source": [
    "a"
   ]
  },
  {
   "cell_type": "markdown",
   "id": "605f6772",
   "metadata": {},
   "source": [
    "Ada jalan pintas untuk contoh diatas. Python memungkinkan menambah, mengurangi, mengalikan, dan membagi angka dengan penugasan ulang menggunakan `+=`, `-=`, `*=`, dan `/=`."
   ]
  },
  {
   "cell_type": "code",
   "execution_count": 11,
   "id": "12e62282",
   "metadata": {},
   "outputs": [],
   "source": [
    "a += 10"
   ]
  },
  {
   "cell_type": "code",
   "execution_count": 12,
   "id": "581e564e",
   "metadata": {},
   "outputs": [
    {
     "data": {
      "text/plain": [
       "25"
      ]
     },
     "execution_count": 12,
     "metadata": {},
     "output_type": "execute_result"
    }
   ],
   "source": [
    "a"
   ]
  },
  {
   "cell_type": "code",
   "execution_count": 13,
   "id": "e2f3eaa9",
   "metadata": {},
   "outputs": [],
   "source": [
    "a *= 2"
   ]
  },
  {
   "cell_type": "code",
   "execution_count": 14,
   "id": "c06c8809",
   "metadata": {},
   "outputs": [
    {
     "data": {
      "text/plain": [
       "50"
      ]
     },
     "execution_count": 14,
     "metadata": {},
     "output_type": "execute_result"
    }
   ],
   "source": [
    "a"
   ]
  },
  {
   "cell_type": "code",
   "execution_count": 15,
   "id": "40b1abe8",
   "metadata": {},
   "outputs": [],
   "source": [
    "a /= 2"
   ]
  },
  {
   "cell_type": "code",
   "execution_count": 16,
   "id": "cf2479d9",
   "metadata": {},
   "outputs": [
    {
     "data": {
      "text/plain": [
       "25.0"
      ]
     },
     "execution_count": 16,
     "metadata": {},
     "output_type": "execute_result"
    }
   ],
   "source": [
    "a"
   ]
  },
  {
   "cell_type": "code",
   "execution_count": 17,
   "id": "b15f6b69",
   "metadata": {},
   "outputs": [],
   "source": [
    "a -= 10"
   ]
  },
  {
   "cell_type": "code",
   "execution_count": 18,
   "id": "5c90d2fb",
   "metadata": {},
   "outputs": [
    {
     "data": {
      "text/plain": [
       "15.0"
      ]
     },
     "execution_count": 18,
     "metadata": {},
     "output_type": "execute_result"
    }
   ],
   "source": [
    "a"
   ]
  },
  {
   "cell_type": "markdown",
   "id": "a084386a",
   "metadata": {},
   "source": [
    "### Menentukan tipe variabel \n",
    "\n",
    "Untuk memeriksa jenis objek apa yang ditugaskan ke variabel menggunakan fungsi `type()`. Tipe data umum meliputi:\n",
    "* **int** (integer)\n",
    "* **float**\n",
    "* **str** (string)\n",
    "* **list**\n",
    "* **tuple**\n",
    "* **dict** (dictionary)\n",
    "* **set**\n",
    "* **bool** (Boolean True/False)"
   ]
  },
  {
   "cell_type": "code",
   "execution_count": 19,
   "id": "3d5a12a1",
   "metadata": {},
   "outputs": [
    {
     "data": {
      "text/plain": [
       "float"
      ]
     },
     "execution_count": 19,
     "metadata": {},
     "output_type": "execute_result"
    }
   ],
   "source": [
    "type (a)"
   ]
  },
  {
   "cell_type": "code",
   "execution_count": 20,
   "id": "0771ded0",
   "metadata": {},
   "outputs": [
    {
     "ename": "NameError",
     "evalue": "name 'Jakarta' is not defined",
     "output_type": "error",
     "traceback": [
      "\u001b[0;31m---------------------------------------------------------------------------\u001b[0m",
      "\u001b[0;31mNameError\u001b[0m                                 Traceback (most recent call last)",
      "\u001b[0;32m/var/folders/3d/c8q4wk5d4836yjvnnpyk2z3r0000gn/T/ipykernel_31002/2068523097.py\u001b[0m in \u001b[0;36m<module>\u001b[0;34m\u001b[0m\n\u001b[0;32m----> 1\u001b[0;31m \u001b[0ma\u001b[0m \u001b[0;34m=\u001b[0m \u001b[0;34m{\u001b[0m\u001b[0mJakarta\u001b[0m\u001b[0;34m,\u001b[0m \u001b[0mBandung\u001b[0m\u001b[0;34m}\u001b[0m\u001b[0;34m\u001b[0m\u001b[0;34m\u001b[0m\u001b[0m\n\u001b[0m",
      "\u001b[0;31mNameError\u001b[0m: name 'Jakarta' is not defined"
     ]
    }
   ],
   "source": [
    "a = {Jakarta, Bandung}"
   ]
  },
  {
   "cell_type": "code",
   "execution_count": null,
   "id": "1fb4a74a",
   "metadata": {},
   "outputs": [],
   "source": []
  }
 ],
 "metadata": {
  "kernelspec": {
   "display_name": "Python 3 (ipykernel)",
   "language": "python",
   "name": "python3"
  },
  "language_info": {
   "codemirror_mode": {
    "name": "ipython",
    "version": 3
   },
   "file_extension": ".py",
   "mimetype": "text/x-python",
   "name": "python",
   "nbconvert_exporter": "python",
   "pygments_lexer": "ipython3",
   "version": "3.9.7"
  }
 },
 "nbformat": 4,
 "nbformat_minor": 5
}
