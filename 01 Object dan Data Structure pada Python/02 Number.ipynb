{
 "cells": [
  {
   "cell_type": "markdown",
   "id": "b7b50a3e",
   "metadata": {},
   "source": [
    "# 02 Number\n",
    "\n",
    "Number adalah jenis tipe data pada python yang menyimpan nilai numerik. Pada Python, mendukung beberapa tipe data Number diantaranya :\n",
    "* Interger\n",
    "* Float\n",
    "* Complex\n",
    "\n",
    "|Integer |Float|Complex | \n",
    "|-----|:-----|:---:| \n",
    "|24 |3.14 |2.71j |\n",
    "|-24|1.2546|-.123+0J|\n",
    "|200|38.2-E13|.873j|\n",
    "|1|-32.5e10|35.j|\n"
   ]
  },
  {
   "cell_type": "markdown",
   "id": "880e538f",
   "metadata": {},
   "source": [
    "### Basic Arithmetic"
   ]
  },
  {
   "cell_type": "code",
   "execution_count": 1,
   "id": "69a092ff",
   "metadata": {},
   "outputs": [
    {
     "data": {
      "text/plain": [
       "4"
      ]
     },
     "execution_count": 1,
     "metadata": {},
     "output_type": "execute_result"
    }
   ],
   "source": [
    "# Addition / Penambahan\n",
    "2+2"
   ]
  },
  {
   "cell_type": "code",
   "execution_count": 2,
   "id": "0e931314",
   "metadata": {},
   "outputs": [
    {
     "data": {
      "text/plain": [
       "2"
      ]
     },
     "execution_count": 2,
     "metadata": {},
     "output_type": "execute_result"
    }
   ],
   "source": [
    "# Substrction / Pengurangan\n",
    "3-1"
   ]
  },
  {
   "cell_type": "code",
   "execution_count": 3,
   "id": "750b8906",
   "metadata": {},
   "outputs": [
    {
     "data": {
      "text/plain": [
       "4"
      ]
     },
     "execution_count": 3,
     "metadata": {},
     "output_type": "execute_result"
    }
   ],
   "source": [
    "# Multiplication / Perkalian\n",
    "2*2"
   ]
  },
  {
   "cell_type": "code",
   "execution_count": 4,
   "id": "2c231ba8",
   "metadata": {},
   "outputs": [
    {
     "data": {
      "text/plain": [
       "2.5"
      ]
     },
     "execution_count": 4,
     "metadata": {},
     "output_type": "execute_result"
    }
   ],
   "source": [
    "# Division / Pembagian\n",
    "5/2"
   ]
  },
  {
   "cell_type": "code",
   "execution_count": 5,
   "id": "41daa33d",
   "metadata": {},
   "outputs": [
    {
     "data": {
      "text/plain": [
       "1"
      ]
     },
     "execution_count": 5,
     "metadata": {},
     "output_type": "execute_result"
    }
   ],
   "source": [
    "# Modulo\n",
    "9%2"
   ]
  },
  {
   "cell_type": "code",
   "execution_count": 6,
   "id": "f84f488c",
   "metadata": {},
   "outputs": [
    {
     "data": {
      "text/plain": [
       "9"
      ]
     },
     "execution_count": 6,
     "metadata": {},
     "output_type": "execute_result"
    }
   ],
   "source": [
    "#Powers / pangkat\n",
    "3**2"
   ]
  },
  {
   "cell_type": "code",
   "execution_count": 7,
   "id": "093cf6d7",
   "metadata": {},
   "outputs": [
    {
     "data": {
      "text/plain": [
       "24"
      ]
     },
     "execution_count": 7,
     "metadata": {},
     "output_type": "execute_result"
    }
   ],
   "source": [
    "# Urutan operasi pada Python\n",
    "10+2*2+10"
   ]
  },
  {
   "cell_type": "code",
   "execution_count": 8,
   "id": "6619060f",
   "metadata": {},
   "outputs": [
    {
     "data": {
      "text/plain": [
       "240"
      ]
     },
     "execution_count": 8,
     "metadata": {},
     "output_type": "execute_result"
    }
   ],
   "source": [
    "# Tanda kurung untuk menentukan urutan\n",
    "(10+2)*(2*10)"
   ]
  },
  {
   "cell_type": "markdown",
   "id": "5142ce68",
   "metadata": {},
   "source": [
    "### Konversi Tipe Data Number Python\n",
    "\n",
    "Pada Python Anda bisa mengkonversi tipe data dengan menggunakan fungsi. Dibawah ini adalah beberapa fungsi untuk mengkonversi tipe data number Python.\n",
    "\n",
    "* `int(x)` untuk konversi x menjadi plain integer.\n",
    "* `long(x)` untuk konversi x menjadi long integer.\n",
    "* `float(x)` untuk konversi x menjadi floating point number.\n",
    "* `complex(x)` untuk konversi x menjadi complex number dengna real part x dan imaginary part zero.\n",
    "* `complex(x, y)` untuk konversi x dan y menjadi complex number dengan real part x dan imaginary part y. x dan numeric expressions y."
   ]
  },
  {
   "cell_type": "code",
   "execution_count": 1,
   "id": "35cd8228",
   "metadata": {},
   "outputs": [],
   "source": [
    "b = 3.14"
   ]
  },
  {
   "cell_type": "code",
   "execution_count": 2,
   "id": "4a698aa1",
   "metadata": {},
   "outputs": [
    {
     "data": {
      "text/plain": [
       "3"
      ]
     },
     "execution_count": 2,
     "metadata": {},
     "output_type": "execute_result"
    }
   ],
   "source": [
    "int(b)"
   ]
  },
  {
   "cell_type": "code",
   "execution_count": 3,
   "id": "113b45b7",
   "metadata": {},
   "outputs": [],
   "source": [
    "c = 21"
   ]
  },
  {
   "cell_type": "code",
   "execution_count": 5,
   "id": "97f509a2",
   "metadata": {},
   "outputs": [
    {
     "data": {
      "text/plain": [
       "21"
      ]
     },
     "execution_count": 5,
     "metadata": {},
     "output_type": "execute_result"
    }
   ],
   "source": [
    "c"
   ]
  },
  {
   "cell_type": "code",
   "execution_count": 4,
   "id": "c7dfcc5f",
   "metadata": {},
   "outputs": [
    {
     "data": {
      "text/plain": [
       "21.0"
      ]
     },
     "execution_count": 4,
     "metadata": {},
     "output_type": "execute_result"
    }
   ],
   "source": [
    "float(c)"
   ]
  },
  {
   "cell_type": "code",
   "execution_count": 6,
   "id": "d545afdd",
   "metadata": {},
   "outputs": [
    {
     "data": {
      "text/plain": [
       "(3.14+0j)"
      ]
     },
     "execution_count": 6,
     "metadata": {},
     "output_type": "execute_result"
    }
   ],
   "source": [
    "complex(b)"
   ]
  },
  {
   "cell_type": "code",
   "execution_count": 7,
   "id": "0a3d050e",
   "metadata": {},
   "outputs": [
    {
     "data": {
      "text/plain": [
       "(3.14+21j)"
      ]
     },
     "execution_count": 7,
     "metadata": {},
     "output_type": "execute_result"
    }
   ],
   "source": [
    "complex(b,c)"
   ]
  },
  {
   "cell_type": "markdown",
   "id": "f2691faa",
   "metadata": {},
   "source": [
    "### Fungsi Matematik \n",
    "\n",
    "Berikut ini adalah beberapa fungsi matematika yang bisa digunakan pada Python. Beberapa fungsi import terlebih dahulu library math dengan cara `import math`\n",
    "\n",
    "|Nama |Penggunaan|Penjelasan |\n",
    "|-----|:----:|:----|\n",
    "|Absolute |`abs(x)` |Nilai absolut dari x / jarak dari 0 ke x | \n",
    "|Ceiling |`ceil(x)` |Integer terkecil yang kurang dari x |\n",
    "|Eksponen |`exp(x)` |Nilai exponensial dari x |\n",
    "|Fabs |`fabs(x)` |Nilai absolut dari x |\n",
    "|Floor |`floor(x)` |Nilai dasar dari x: internet terbesar tidak lebih besar dari x |\n",
    "|Log |`log(x)` |Logaritma dari x, untuk x > 0 |\n",
    "|Log 10 |`log10(x)` |Basis 10 logaritma dari x, untuk x > 0 |\n",
    "|Max |`max(x1, x2,...)` |Argumen terbesar: Nilai terdekat dengan tak terhingga positif |\n",
    "|Min |`min(x1, x2,...)` |Argumen terkecil: nilai yang paling mendekati tak berhingga negatif |\n",
    "|Modf |`modf(x)` |Bagian pecahan dan bilangan bulat dari x dalam tupel dua item. Kedua bagian memiliki tanda yang sama dengan x. Bagian integer dikembalikan sebagai float |\n",
    "|Pow |`pow(x,y)` |Nilai x ** y |\n",
    "|Round |`round(x [,n])` |Nilai x dibulatkan menjadi n digit dari titik desimal |\n",
    "|Akar Kuadrat |`sqrt(x)` |Akar kuadrat x untuk x> 0 |\n",
    "\n",
    "Berikut adalah contoh dari penggunaan dari fungsi diatas:"
   ]
  },
  {
   "cell_type": "code",
   "execution_count": 56,
   "id": "43963afa",
   "metadata": {},
   "outputs": [],
   "source": [
    "x = 100"
   ]
  },
  {
   "cell_type": "code",
   "execution_count": 57,
   "id": "2f2adfe2",
   "metadata": {},
   "outputs": [],
   "source": [
    "y = -2"
   ]
  },
  {
   "cell_type": "code",
   "execution_count": 64,
   "id": "9f4c6104",
   "metadata": {},
   "outputs": [],
   "source": [
    "z = 2.76"
   ]
  },
  {
   "cell_type": "code",
   "execution_count": 65,
   "id": "8d156a1f",
   "metadata": {},
   "outputs": [
    {
     "data": {
      "text/plain": [
       "2"
      ]
     },
     "execution_count": 65,
     "metadata": {},
     "output_type": "execute_result"
    }
   ],
   "source": [
    "abs(y)"
   ]
  },
  {
   "cell_type": "code",
   "execution_count": 66,
   "id": "a168af64",
   "metadata": {},
   "outputs": [],
   "source": [
    "import math"
   ]
  },
  {
   "cell_type": "code",
   "execution_count": 67,
   "id": "b5e175c4",
   "metadata": {},
   "outputs": [
    {
     "data": {
      "text/plain": [
       "3"
      ]
     },
     "execution_count": 67,
     "metadata": {},
     "output_type": "execute_result"
    }
   ],
   "source": [
    "math.ceil(z)"
   ]
  },
  {
   "cell_type": "code",
   "execution_count": 68,
   "id": "9cbce1f1",
   "metadata": {},
   "outputs": [
    {
     "data": {
      "text/plain": [
       "2.6881171418161356e+43"
      ]
     },
     "execution_count": 68,
     "metadata": {},
     "output_type": "execute_result"
    }
   ],
   "source": [
    "math.exp(x)"
   ]
  },
  {
   "cell_type": "code",
   "execution_count": 69,
   "id": "6827ec1e",
   "metadata": {},
   "outputs": [
    {
     "data": {
      "text/plain": [
       "2.0"
      ]
     },
     "execution_count": 69,
     "metadata": {},
     "output_type": "execute_result"
    }
   ],
   "source": [
    "math.fabs(y)"
   ]
  },
  {
   "cell_type": "code",
   "execution_count": 71,
   "id": "52a27da1",
   "metadata": {},
   "outputs": [
    {
     "data": {
      "text/plain": [
       "2"
      ]
     },
     "execution_count": 71,
     "metadata": {},
     "output_type": "execute_result"
    }
   ],
   "source": [
    "math.floor(z)"
   ]
  },
  {
   "cell_type": "code",
   "execution_count": 73,
   "id": "7c5c83ec",
   "metadata": {},
   "outputs": [
    {
     "data": {
      "text/plain": [
       "4.605170185988092"
      ]
     },
     "execution_count": 73,
     "metadata": {},
     "output_type": "execute_result"
    }
   ],
   "source": [
    "math.log(x)"
   ]
  },
  {
   "cell_type": "code",
   "execution_count": 75,
   "id": "fb0e6eba",
   "metadata": {},
   "outputs": [
    {
     "data": {
      "text/plain": [
       "2.0"
      ]
     },
     "execution_count": 75,
     "metadata": {},
     "output_type": "execute_result"
    }
   ],
   "source": [
    "math.log10(x)"
   ]
  },
  {
   "cell_type": "code",
   "execution_count": 76,
   "id": "6dd41a01",
   "metadata": {},
   "outputs": [
    {
     "data": {
      "text/plain": [
       "100"
      ]
     },
     "execution_count": 76,
     "metadata": {},
     "output_type": "execute_result"
    }
   ],
   "source": [
    "max(x,y,z)"
   ]
  },
  {
   "cell_type": "code",
   "execution_count": 77,
   "id": "a0691e16",
   "metadata": {},
   "outputs": [
    {
     "data": {
      "text/plain": [
       "-2"
      ]
     },
     "execution_count": 77,
     "metadata": {},
     "output_type": "execute_result"
    }
   ],
   "source": [
    "min(x,y,z)"
   ]
  },
  {
   "cell_type": "code",
   "execution_count": 78,
   "id": "64ad2d24",
   "metadata": {},
   "outputs": [
    {
     "data": {
      "text/plain": [
       "(0.7599999999999998, 2.0)"
      ]
     },
     "execution_count": 78,
     "metadata": {},
     "output_type": "execute_result"
    }
   ],
   "source": [
    "math.modf(z)"
   ]
  },
  {
   "cell_type": "code",
   "execution_count": 79,
   "id": "55bbba86",
   "metadata": {},
   "outputs": [
    {
     "data": {
      "text/plain": [
       "0.0001"
      ]
     },
     "execution_count": 79,
     "metadata": {},
     "output_type": "execute_result"
    }
   ],
   "source": [
    "pow(x,y)"
   ]
  },
  {
   "cell_type": "code",
   "execution_count": 45,
   "id": "8342d8d6",
   "metadata": {},
   "outputs": [
    {
     "data": {
      "text/plain": [
       "3.141592653589793"
      ]
     },
     "execution_count": 45,
     "metadata": {},
     "output_type": "execute_result"
    }
   ],
   "source": [
    "math.pi"
   ]
  },
  {
   "cell_type": "code",
   "execution_count": 46,
   "id": "62d781a3",
   "metadata": {},
   "outputs": [
    {
     "data": {
      "text/plain": [
       "2.718281828459045"
      ]
     },
     "execution_count": 46,
     "metadata": {},
     "output_type": "execute_result"
    }
   ],
   "source": [
    "math.e"
   ]
  },
  {
   "cell_type": "markdown",
   "id": "49d1a93a",
   "metadata": {},
   "source": [
    "### Konstanta Matematika \n",
    "\n",
    "Pada python terdapat konstanta matematika yang bisa digunakan. Berikut adalah konstanta yang bisa digunakan :\n",
    "\n",
    "|Nama |Penggunaan|Penjelasan |\n",
    "|-----|:----:|:----|\n",
    "|Pi |`Pi` |Konstanta Pi matematika | \n",
    "|e |`e` |Konstanta e matematika |\n",
    "\n",
    "Berikut adalah contoh penggunaan konstanta tersebut"
   ]
  },
  {
   "cell_type": "code",
   "execution_count": 50,
   "id": "9b6b7fd3",
   "metadata": {},
   "outputs": [],
   "source": [
    "#import library math\n",
    "import math"
   ]
  },
  {
   "cell_type": "code",
   "execution_count": 51,
   "id": "feccd039",
   "metadata": {},
   "outputs": [],
   "source": [
    "a = math.pi"
   ]
  },
  {
   "cell_type": "code",
   "execution_count": 52,
   "id": "ee3ee22f",
   "metadata": {},
   "outputs": [
    {
     "data": {
      "text/plain": [
       "3.141592653589793"
      ]
     },
     "execution_count": 52,
     "metadata": {},
     "output_type": "execute_result"
    }
   ],
   "source": [
    "a"
   ]
  },
  {
   "cell_type": "code",
   "execution_count": 54,
   "id": "8910faa2",
   "metadata": {},
   "outputs": [],
   "source": [
    "b = math.e"
   ]
  },
  {
   "cell_type": "code",
   "execution_count": 55,
   "id": "79af555c",
   "metadata": {},
   "outputs": [
    {
     "data": {
      "text/plain": [
       "2.718281828459045"
      ]
     },
     "execution_count": 55,
     "metadata": {},
     "output_type": "execute_result"
    }
   ],
   "source": [
    "b"
   ]
  }
 ],
 "metadata": {
  "kernelspec": {
   "display_name": "Python 3 (ipykernel)",
   "language": "python",
   "name": "python3"
  },
  "language_info": {
   "codemirror_mode": {
    "name": "ipython",
    "version": 3
   },
   "file_extension": ".py",
   "mimetype": "text/x-python",
   "name": "python",
   "nbconvert_exporter": "python",
   "pygments_lexer": "ipython3",
   "version": "3.9.7"
  }
 },
 "nbformat": 4,
 "nbformat_minor": 5
}
