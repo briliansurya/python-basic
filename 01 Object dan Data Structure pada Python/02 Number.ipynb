{
 "cells": [
  {
   "cell_type": "markdown",
   "id": "b7b50a3e",
   "metadata": {},
   "source": [
    "# 02 Number\n",
    "\n",
    "Number adalah jenis tipe data pada python yang menyimpan nilai numerik. Pada Python, mendukung beberapa tipe data Number diantaranya :\n",
    "* Interger\n",
    "* Float\n",
    "* Complex\n",
    "\n",
    "|Integer |Float|Complex | \n",
    "|-----|:-----|:---:| \n",
    "|24 |3.14 |2.71j |\n",
    "|-24|1.2546|-.123+0J|\n",
    "|200|38.2-E13|.873j|\n",
    "|1|-32.5e10|35.j|\n"
   ]
  },
  {
   "cell_type": "markdown",
   "id": "880e538f",
   "metadata": {},
   "source": [
    "### Basic Arithmetic"
   ]
  },
  {
   "cell_type": "code",
   "execution_count": 1,
   "id": "69a092ff",
   "metadata": {},
   "outputs": [
    {
     "data": {
      "text/plain": [
       "4"
      ]
     },
     "execution_count": 1,
     "metadata": {},
     "output_type": "execute_result"
    }
   ],
   "source": [
    "# Addition / Penambahan\n",
    "2+2"
   ]
  },
  {
   "cell_type": "code",
   "execution_count": 2,
   "id": "0e931314",
   "metadata": {},
   "outputs": [
    {
     "data": {
      "text/plain": [
       "2"
      ]
     },
     "execution_count": 2,
     "metadata": {},
     "output_type": "execute_result"
    }
   ],
   "source": [
    "# Substrction / Pengurangan\n",
    "3-1"
   ]
  },
  {
   "cell_type": "code",
   "execution_count": 3,
   "id": "750b8906",
   "metadata": {},
   "outputs": [
    {
     "data": {
      "text/plain": [
       "4"
      ]
     },
     "execution_count": 3,
     "metadata": {},
     "output_type": "execute_result"
    }
   ],
   "source": [
    "# Multiplication / Perkalian\n",
    "2*2"
   ]
  },
  {
   "cell_type": "code",
   "execution_count": 4,
   "id": "2c231ba8",
   "metadata": {},
   "outputs": [
    {
     "data": {
      "text/plain": [
       "2.5"
      ]
     },
     "execution_count": 4,
     "metadata": {},
     "output_type": "execute_result"
    }
   ],
   "source": [
    "# Division / Pembagian\n",
    "5/2"
   ]
  },
  {
   "cell_type": "code",
   "execution_count": 5,
   "id": "41daa33d",
   "metadata": {},
   "outputs": [
    {
     "data": {
      "text/plain": [
       "1"
      ]
     },
     "execution_count": 5,
     "metadata": {},
     "output_type": "execute_result"
    }
   ],
   "source": [
    "# Modulo\n",
    "9%2"
   ]
  },
  {
   "cell_type": "code",
   "execution_count": 6,
   "id": "f84f488c",
   "metadata": {},
   "outputs": [
    {
     "data": {
      "text/plain": [
       "9"
      ]
     },
     "execution_count": 6,
     "metadata": {},
     "output_type": "execute_result"
    }
   ],
   "source": [
    "#Powers / pangkat\n",
    "3**2"
   ]
  },
  {
   "cell_type": "code",
   "execution_count": 7,
   "id": "093cf6d7",
   "metadata": {},
   "outputs": [
    {
     "data": {
      "text/plain": [
       "24"
      ]
     },
     "execution_count": 7,
     "metadata": {},
     "output_type": "execute_result"
    }
   ],
   "source": [
    "# Urutan operasi pada Python\n",
    "10+2*2+10"
   ]
  },
  {
   "cell_type": "code",
   "execution_count": 8,
   "id": "6619060f",
   "metadata": {},
   "outputs": [
    {
     "data": {
      "text/plain": [
       "240"
      ]
     },
     "execution_count": 8,
     "metadata": {},
     "output_type": "execute_result"
    }
   ],
   "source": [
    "# Tanda kurung untuk menentukan urutan\n",
    "(10+2)*(2*10)"
   ]
  },
  {
   "cell_type": "markdown",
   "id": "bdd7a2c4",
   "metadata": {},
   "source": [
    "### Konversi Tipe Data Number Python\n",
    "\n",
    "Pada Python Anda bisa mengkonversi tipe data dengan menggunakan fungsi. Dibawah ini adalah beberapa fungsi untuk mengkonversi tipe data number Python.\n",
    "\n",
    "* `int(x)` untuk konversi x menjadi plain integer.\n",
    "* `long(x)` untuk konversi x menjadi long integer.\n",
    "* `float(x)` untuk konversi x menjadi floating point number.\n",
    "* `complex(x)` untuk konversi x menjadi complex number dengna real part x dan imaginary part zero.\n",
    "* `complex(x, y)` untuk konversi x dan y menjadi complex number dengan real part x dan imaginary part y. x dan numeric expressions y."
   ]
  },
  {
   "cell_type": "code",
   "execution_count": 1,
   "id": "c4b96083",
   "metadata": {},
   "outputs": [],
   "source": [
    "b = 3.14"
   ]
  },
  {
   "cell_type": "code",
   "execution_count": 2,
   "id": "1e5d6444",
   "metadata": {},
   "outputs": [
    {
     "data": {
      "text/plain": [
       "3"
      ]
     },
     "execution_count": 2,
     "metadata": {},
     "output_type": "execute_result"
    }
   ],
   "source": [
    "int(b)"
   ]
  },
  {
   "cell_type": "code",
   "execution_count": 3,
   "id": "24346c81",
   "metadata": {},
   "outputs": [],
   "source": [
    "c = 21"
   ]
  },
  {
   "cell_type": "code",
   "execution_count": 5,
   "id": "56f69a05",
   "metadata": {},
   "outputs": [
    {
     "data": {
      "text/plain": [
       "21"
      ]
     },
     "execution_count": 5,
     "metadata": {},
     "output_type": "execute_result"
    }
   ],
   "source": [
    "c"
   ]
  },
  {
   "cell_type": "code",
   "execution_count": 4,
   "id": "3e087354",
   "metadata": {},
   "outputs": [
    {
     "data": {
      "text/plain": [
       "21.0"
      ]
     },
     "execution_count": 4,
     "metadata": {},
     "output_type": "execute_result"
    }
   ],
   "source": [
    "float(c)"
   ]
  },
  {
   "cell_type": "code",
   "execution_count": 6,
   "id": "2618848d",
   "metadata": {},
   "outputs": [
    {
     "data": {
      "text/plain": [
       "(3.14+0j)"
      ]
     },
     "execution_count": 6,
     "metadata": {},
     "output_type": "execute_result"
    }
   ],
   "source": [
    "complex(b)"
   ]
  },
  {
   "cell_type": "code",
   "execution_count": 7,
   "id": "070b2c24",
   "metadata": {},
   "outputs": [
    {
     "data": {
      "text/plain": [
       "(3.14+21j)"
      ]
     },
     "execution_count": 7,
     "metadata": {},
     "output_type": "execute_result"
    }
   ],
   "source": [
    "complex(b,c)"
   ]
  },
  {
   "cell_type": "markdown",
   "id": "9d6cb8ec",
   "metadata": {},
   "source": [
    "### Fungsi Matematik \n",
    "\n",
    "Berikut ini adalah beberapa fungsi matematika yang bisa digunakan pada Python. Beberapa fungsi import terlebih dahulu library math dengan cara `import math`\n",
    "\n",
    "|Nama |Penggunaan|Penjelasan |\n",
    "|-----|:----:|:----|\n",
    "|Absolute |`abs(x)` |Nilai absolut dari x / jarak dari 0 ke x | \n",
    "|Ceiling |`ceil(x)` |Integer terkecil yang kurang dari x |\n",
    "|Eksponen |`exp(x)` |Nilai exponensial dari x |\n",
    "|Fabs |`fabs(x)` |Nilai absolut dari x |\n",
    "|Floor |`floor(x)` |Nilai dasar dari x: internet terbesar tidak lebih besar dari x |\n",
    "|Log |`log(x)` |Logaritma dari x, untuk x > 0 |\n",
    "|Log 10 |`log10(x)` |Basis 10 logaritma dari x, untuk x > 0 |\n",
    "|Max |`max(x1, x2,...)` |Argumen terbesar: Nilai terdekat dengan tak terhingga positif |\n",
    "|Min |`min(x1, x2,...)` |Argumen terkecil: nilai yang paling mendekati tak berhingga negatif |\n",
    "|Modf |`modf(x)` |Bagian pecahan dan bilangan bulat dari x dalam tupel dua item. Kedua bagian memiliki tanda yang sama dengan x. Bagian integer dikembalikan sebagai float |\n",
    "|Pow |`pow(x,y)` |Nilai x ** y |\n",
    "|Round |`round(x [,n])` |Nilai x dibulatkan menjadi n digit dari titik desimal |\n",
    "|Akar Kuadrat |`sqrt(x)` |Akar kuadrat x untuk x> 0 |\n",
    "\n",
    "Berikut adalah contoh dari penggunaan dari fungsi diatas:"
   ]
  },
  {
   "cell_type": "code",
   "execution_count": 41,
   "id": "2c1a8bba",
   "metadata": {},
   "outputs": [],
   "source": [
    "x = 100"
   ]
  },
  {
   "cell_type": "code",
   "execution_count": 42,
   "id": "8de2d808",
   "metadata": {},
   "outputs": [],
   "source": [
    "y = 2"
   ]
  },
  {
   "cell_type": "code",
   "execution_count": 24,
   "id": "c90446e7",
   "metadata": {},
   "outputs": [],
   "source": [
    "import math"
   ]
  },
  {
   "cell_type": "code",
   "execution_count": 43,
   "id": "f46ef6dc",
   "metadata": {},
   "outputs": [
    {
     "data": {
      "text/plain": [
       "10000"
      ]
     },
     "execution_count": 43,
     "metadata": {},
     "output_type": "execute_result"
    }
   ],
   "source": [
    "pow(x,y)"
   ]
  },
  {
   "cell_type": "code",
   "execution_count": null,
   "id": "fa7c2539",
   "metadata": {},
   "outputs": [],
   "source": []
  }
 ],
 "metadata": {
  "kernelspec": {
   "display_name": "Python 3 (ipykernel)",
   "language": "python",
   "name": "python3"
  },
  "language_info": {
   "codemirror_mode": {
    "name": "ipython",
    "version": 3
   },
   "file_extension": ".py",
   "mimetype": "text/x-python",
   "name": "python",
   "nbconvert_exporter": "python",
   "pygments_lexer": "ipython3",
   "version": "3.9.7"
  }
 },
 "nbformat": 4,
 "nbformat_minor": 5
}
