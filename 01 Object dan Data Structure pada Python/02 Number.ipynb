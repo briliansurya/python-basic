{
 "cells": [
  {
   "cell_type": "markdown",
   "id": "b7b50a3e",
   "metadata": {},
   "source": [
    "# 02 Number\n",
    "\n",
    "Number adalah jenis tipe data pada python yang menyimpan nilai numerik. Pada Python, mendukung beberapa tipe data Number diantaranya :\n",
    "* Interger\n",
    "* Float\n",
    "* Complex\n",
    "\n",
    "|Integer |Float|Complex | \n",
    "|-----|:-----|:---:| \n",
    "|24 |3.14 |2.71j |\n",
    "|-24|1.2546|-.123+0J|\n",
    "|200|38.2-E13|.873j|\n",
    "|1|-32.5e10|35.j|\n"
   ]
  },
  {
   "cell_type": "markdown",
   "id": "880e538f",
   "metadata": {},
   "source": [
    "### Basic Arithmetic"
   ]
  },
  {
   "cell_type": "code",
   "execution_count": 1,
   "id": "69a092ff",
   "metadata": {},
   "outputs": [
    {
     "data": {
      "text/plain": [
       "4"
      ]
     },
     "execution_count": 1,
     "metadata": {},
     "output_type": "execute_result"
    }
   ],
   "source": [
    "# Addition / Penambahan\n",
    "2+2"
   ]
  },
  {
   "cell_type": "code",
   "execution_count": 2,
   "id": "0e931314",
   "metadata": {},
   "outputs": [
    {
     "data": {
      "text/plain": [
       "2"
      ]
     },
     "execution_count": 2,
     "metadata": {},
     "output_type": "execute_result"
    }
   ],
   "source": [
    "# Substrction / Pengurangan\n",
    "3-1"
   ]
  },
  {
   "cell_type": "code",
   "execution_count": 3,
   "id": "750b8906",
   "metadata": {},
   "outputs": [
    {
     "data": {
      "text/plain": [
       "4"
      ]
     },
     "execution_count": 3,
     "metadata": {},
     "output_type": "execute_result"
    }
   ],
   "source": [
    "# Multiplication / Perkalian\n",
    "2*2"
   ]
  },
  {
   "cell_type": "code",
   "execution_count": 4,
   "id": "2c231ba8",
   "metadata": {},
   "outputs": [
    {
     "data": {
      "text/plain": [
       "2.5"
      ]
     },
     "execution_count": 4,
     "metadata": {},
     "output_type": "execute_result"
    }
   ],
   "source": [
    "# Division / Pembagian\n",
    "5/2"
   ]
  },
  {
   "cell_type": "code",
   "execution_count": 5,
   "id": "41daa33d",
   "metadata": {},
   "outputs": [
    {
     "data": {
      "text/plain": [
       "1"
      ]
     },
     "execution_count": 5,
     "metadata": {},
     "output_type": "execute_result"
    }
   ],
   "source": [
    "# Modulo\n",
    "9%2"
   ]
  },
  {
   "cell_type": "code",
   "execution_count": 6,
   "id": "f84f488c",
   "metadata": {},
   "outputs": [
    {
     "data": {
      "text/plain": [
       "9"
      ]
     },
     "execution_count": 6,
     "metadata": {},
     "output_type": "execute_result"
    }
   ],
   "source": [
    "#Powers / pangkat\n",
    "3**2"
   ]
  },
  {
   "cell_type": "code",
   "execution_count": 7,
   "id": "093cf6d7",
   "metadata": {},
   "outputs": [
    {
     "data": {
      "text/plain": [
       "24"
      ]
     },
     "execution_count": 7,
     "metadata": {},
     "output_type": "execute_result"
    }
   ],
   "source": [
    "# Urutan operasi pada Python\n",
    "10+2*2+10"
   ]
  },
  {
   "cell_type": "code",
   "execution_count": 8,
   "id": "6619060f",
   "metadata": {},
   "outputs": [
    {
     "data": {
      "text/plain": [
       "240"
      ]
     },
     "execution_count": 8,
     "metadata": {},
     "output_type": "execute_result"
    }
   ],
   "source": [
    "# Tanda kurung untuk menentukan urutan\n",
    "(10+2)*(2*10)"
   ]
  },
  {
   "cell_type": "markdown",
   "id": "53c8d6d2",
   "metadata": {},
   "source": [
    "### Konversi Tipe Data Number Python\n",
    "\n",
    "Pada Python Anda bisa mengkonversi tipe data dengan menggunakan fungsi. Dibawah ini adalah beberapa fungsi untuk mengkonversi tipe data number Python.\n",
    "\n",
    "* `int(x)` untuk konversi x menjadi plain integer.\n",
    "* `long(x)` untuk konversi x menjadi long integer.\n",
    "* `float(x)` untuk konversi x menjadi floating point number.\n",
    "* `complex(x)` untuk konversi x menjadi complex number dengna real part x dan imaginary part zero.\n",
    "* `complex(x, y)` untuk konversi x dan y menjadi complex number dengan real part x dan imaginary part y. x dan numeric expressions y."
   ]
  },
  {
   "cell_type": "code",
   "execution_count": 1,
   "id": "c39b62e5",
   "metadata": {},
   "outputs": [],
   "source": [
    "b = 3.14"
   ]
  },
  {
   "cell_type": "code",
   "execution_count": 2,
   "id": "5ac79288",
   "metadata": {},
   "outputs": [
    {
     "data": {
      "text/plain": [
       "3"
      ]
     },
     "execution_count": 2,
     "metadata": {},
     "output_type": "execute_result"
    }
   ],
   "source": [
    "int(b)"
   ]
  },
  {
   "cell_type": "code",
   "execution_count": 3,
   "id": "831a3f09",
   "metadata": {},
   "outputs": [],
   "source": [
    "c = 21"
   ]
  },
  {
   "cell_type": "code",
   "execution_count": 5,
   "id": "996e09bf",
   "metadata": {},
   "outputs": [
    {
     "data": {
      "text/plain": [
       "21"
      ]
     },
     "execution_count": 5,
     "metadata": {},
     "output_type": "execute_result"
    }
   ],
   "source": [
    "c"
   ]
  },
  {
   "cell_type": "code",
   "execution_count": 4,
   "id": "c84fce71",
   "metadata": {},
   "outputs": [
    {
     "data": {
      "text/plain": [
       "21.0"
      ]
     },
     "execution_count": 4,
     "metadata": {},
     "output_type": "execute_result"
    }
   ],
   "source": [
    "float(c)"
   ]
  },
  {
   "cell_type": "code",
   "execution_count": 6,
   "id": "db409d12",
   "metadata": {},
   "outputs": [
    {
     "data": {
      "text/plain": [
       "(3.14+0j)"
      ]
     },
     "execution_count": 6,
     "metadata": {},
     "output_type": "execute_result"
    }
   ],
   "source": [
    "complex(b)"
   ]
  },
  {
   "cell_type": "code",
   "execution_count": 7,
   "id": "78f0dd95",
   "metadata": {},
   "outputs": [
    {
     "data": {
      "text/plain": [
       "(3.14+21j)"
      ]
     },
     "execution_count": 7,
     "metadata": {},
     "output_type": "execute_result"
    }
   ],
   "source": [
    "complex(b,c)"
   ]
  },
  {
   "cell_type": "markdown",
   "id": "c6c2a994",
   "metadata": {},
   "source": [
    "### Fungsi Matematik \n",
    "\n",
    "Berikut ini adalah beberapa fungsi matematika yang bisa digunakan pada Python. Beberapa fungsi import terlebih dahulu module math dengan cara `import math`\n",
    "\n",
    "|Nama |Penggunaan|Penjelasan |\n",
    "|-----|:----:|:----|\n",
    "|Absolute |`abs(x)` |Nilai absolut dari x / jarak dari 0 ke x | \n",
    "|Ceiling |`ceil(x)` |Integer terkecil yang kurang dari x |\n",
    "|Eksponen |`exp(x)` |Nilai exponensial dari x |\n",
    "|Fabs |`fabs(x)` |Nilai exponensial dari x |\n",
    "|Floor |`floor(x)` |Nilai exponensial dari x |\n",
    "|Log |`log(x)` |Nilai exponensial dari x |\n",
    "|Log 10 |`log10(x)` |Nilai exponensial dari x |\n",
    "|Max |`max(x1, x2,...)` |Nilai exponensial dari x |\n",
    "|Min |`min(x1, x2,...)` |Nilai exponensial dari x |\n",
    "|Modf |`modf(x)` |Nilai exponensial dari x |\n",
    "|Pow |`pow(x,y)` |Nilai exponensial dari x |\n",
    "|Round |`exp(x)` |Nilai exponensial dari x |\n",
    "|Akar Kuadrat |`exp(x)` |Nilai exponensial dari x |\n",
    "\n",
    "Berikut adalah contoh dari penggunaan dari fungsi diatas:"
   ]
  },
  {
   "cell_type": "code",
   "execution_count": 41,
   "id": "bbb9e4ba",
   "metadata": {},
   "outputs": [],
   "source": [
    "x = 100"
   ]
  },
  {
   "cell_type": "code",
   "execution_count": 42,
   "id": "036ce2a3",
   "metadata": {},
   "outputs": [],
   "source": [
    "y = 2"
   ]
  },
  {
   "cell_type": "code",
   "execution_count": 24,
   "id": "7c106d01",
   "metadata": {},
   "outputs": [],
   "source": [
    "import math"
   ]
  },
  {
   "cell_type": "code",
   "execution_count": 43,
   "id": "930ba4f0",
   "metadata": {},
   "outputs": [
    {
     "data": {
      "text/plain": [
       "10000"
      ]
     },
     "execution_count": 43,
     "metadata": {},
     "output_type": "execute_result"
    }
   ],
   "source": [
    "pow(x,y)"
   ]
  },
  {
   "cell_type": "code",
   "execution_count": null,
   "id": "154f7adf",
   "metadata": {},
   "outputs": [],
   "source": []
  }
 ],
 "metadata": {
  "kernelspec": {
   "display_name": "Python 3 (ipykernel)",
   "language": "python",
   "name": "python3"
  },
  "language_info": {
   "codemirror_mode": {
    "name": "ipython",
    "version": 3
   },
   "file_extension": ".py",
   "mimetype": "text/x-python",
   "name": "python",
   "nbconvert_exporter": "python",
   "pygments_lexer": "ipython3",
   "version": "3.9.7"
  }
 },
 "nbformat": 4,
 "nbformat_minor": 5
}
