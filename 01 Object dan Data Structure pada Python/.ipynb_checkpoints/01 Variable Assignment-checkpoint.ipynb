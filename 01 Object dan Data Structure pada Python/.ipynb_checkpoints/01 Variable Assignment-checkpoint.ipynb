{
 "cells": [
  {
   "cell_type": "markdown",
   "id": "5a39a92d",
   "metadata": {},
   "source": [
    "# 01 Variable Assignment\n",
    "\n",
    "\n",
    "### Assigning Variables\n",
    "\n",
    "*Variable Assignment* dilakukan dengan cara `nama_varibel = objek`, tanda sama dengan `=` adalah *assignment operator*\n",
    "\n",
    "#### Aturan penamaan variable\n",
    "Aturan penulisan variabel dalam Python adalah sebagai berikut:\n",
    "1. Karakter pertama harus berupa huruf atau garis bawah/underscore ( _ ) dan tidak boleh angka.\n",
    "2. Karakter selanjutnya dapat berupa huruf, garis bawah/underscore ( _ ) atau angka.\n",
    "3. Karakter pada nama variabel bersifat sensitif (*case-sensitif*). Artinya huruf kecil dan huruf besar dibedakan. Sebagai contoh, variabel `nama` dan `Nama`adalah variabel yang berbeda\n",
    "4. Nama tidak boleh ada spasi, gunakan garis bawah/underscore ( _ )\n",
    "5. Nama tidak boleh ada simbol berikut :\n",
    "    `:'\",<>/?|\\!@#%^&*~-+`\n",
    "6. Hindari menggunakan Python built-in keyword `list` dan `str`\n",
    "7. Hindari menggunakan *single* karakter\n",
    "\n",
    "### Dynamic Typing\n",
    "Pada python menggunakan *dynamic typing* tidak diharuskan menulis tipe data ketika membuat variabel. \n",
    "\n",
    "#### Kelebihan\n",
    "1. Penulisan kode lebih cepat\n",
    "2. Penyusunan logika lebih mudah\n",
    "\n",
    "#### Kekurangan\n",
    "1. Rawan runtime error\n",
    "2. Kode sulit dibaca\n",
    "3. Relatif lebih lambat "
   ]
  },
  {
   "cell_type": "code",
   "execution_count": 1,
   "id": "cf65c086",
   "metadata": {},
   "outputs": [],
   "source": [
    "#Contoh variable assignment\n",
    "a = 2"
   ]
  },
  {
   "cell_type": "code",
   "execution_count": 2,
   "id": "fecb3993",
   "metadata": {},
   "outputs": [
    {
     "data": {
      "text/plain": [
       "2"
      ]
     },
     "execution_count": 2,
     "metadata": {},
     "output_type": "execute_result"
    }
   ],
   "source": [
    "a"
   ]
  },
  {
   "cell_type": "code",
   "execution_count": 3,
   "id": "9c85c100",
   "metadata": {},
   "outputs": [],
   "source": [
    "#Contoh bagaimana dynamic typing. dimana variabel a tidak perlu dikelarasikan tipe datanya\n",
    "a = {'Jakarta', 'Bandung'}"
   ]
  },
  {
   "cell_type": "code",
   "execution_count": 4,
   "id": "3d4c6346",
   "metadata": {},
   "outputs": [
    {
     "data": {
      "text/plain": [
       "{'Bandung', 'Jakarta'}"
      ]
     },
     "execution_count": 4,
     "metadata": {},
     "output_type": "execute_result"
    }
   ],
   "source": [
    "a"
   ]
  },
  {
   "cell_type": "markdown",
   "id": "4b8bda20",
   "metadata": {},
   "source": [
    "### Reassign Variable"
   ]
  },
  {
   "cell_type": "code",
   "execution_count": 5,
   "id": "212cbc88",
   "metadata": {},
   "outputs": [],
   "source": [
    "a = 5"
   ]
  },
  {
   "cell_type": "code",
   "execution_count": 6,
   "id": "27c3164d",
   "metadata": {},
   "outputs": [
    {
     "data": {
      "text/plain": [
       "5"
      ]
     },
     "execution_count": 6,
     "metadata": {},
     "output_type": "execute_result"
    }
   ],
   "source": [
    "a "
   ]
  },
  {
   "cell_type": "code",
   "execution_count": 7,
   "id": "1cc30900",
   "metadata": {},
   "outputs": [],
   "source": [
    "#Reassign variable\n",
    "a = a + 10"
   ]
  },
  {
   "cell_type": "code",
   "execution_count": 8,
   "id": "4767cee0",
   "metadata": {},
   "outputs": [
    {
     "data": {
      "text/plain": [
       "15"
      ]
     },
     "execution_count": 8,
     "metadata": {},
     "output_type": "execute_result"
    }
   ],
   "source": [
    "a"
   ]
  },
  {
   "cell_type": "markdown",
   "id": "3ff47970",
   "metadata": {},
   "source": [
    "Ada jalan pintas untuk contoh diatas. Python memungkinkan menambah, mengurangi, mengalikan, dan membagi angka dengan penugasan ulang menggunakan `+=`, `-=`, `*=`, dan `/=`."
   ]
  },
  {
   "cell_type": "code",
   "execution_count": 9,
   "id": "b5539bce",
   "metadata": {},
   "outputs": [],
   "source": [
    "a += 10"
   ]
  },
  {
   "cell_type": "code",
   "execution_count": 10,
   "id": "0398bca1",
   "metadata": {},
   "outputs": [
    {
     "data": {
      "text/plain": [
       "25"
      ]
     },
     "execution_count": 10,
     "metadata": {},
     "output_type": "execute_result"
    }
   ],
   "source": [
    "a"
   ]
  },
  {
   "cell_type": "code",
   "execution_count": 11,
   "id": "9da1fcbf",
   "metadata": {},
   "outputs": [],
   "source": [
    "a *= 2"
   ]
  },
  {
   "cell_type": "code",
   "execution_count": 12,
   "id": "c0df2d75",
   "metadata": {},
   "outputs": [
    {
     "data": {
      "text/plain": [
       "50"
      ]
     },
     "execution_count": 12,
     "metadata": {},
     "output_type": "execute_result"
    }
   ],
   "source": [
    "a"
   ]
  },
  {
   "cell_type": "code",
   "execution_count": 13,
   "id": "05fee164",
   "metadata": {},
   "outputs": [],
   "source": [
    "a /= 2"
   ]
  },
  {
   "cell_type": "code",
   "execution_count": 14,
   "id": "7d3defe9",
   "metadata": {},
   "outputs": [
    {
     "data": {
      "text/plain": [
       "25.0"
      ]
     },
     "execution_count": 14,
     "metadata": {},
     "output_type": "execute_result"
    }
   ],
   "source": [
    "a"
   ]
  },
  {
   "cell_type": "code",
   "execution_count": 15,
   "id": "ce119bc6",
   "metadata": {},
   "outputs": [],
   "source": [
    "a -= 10"
   ]
  },
  {
   "cell_type": "code",
   "execution_count": 16,
   "id": "759b0b4b",
   "metadata": {},
   "outputs": [
    {
     "data": {
      "text/plain": [
       "15.0"
      ]
     },
     "execution_count": 16,
     "metadata": {},
     "output_type": "execute_result"
    }
   ],
   "source": [
    "a"
   ]
  },
  {
   "cell_type": "markdown",
   "id": "c323a542",
   "metadata": {},
   "source": [
    "### Menentukan tipe variabel \n",
    "\n",
    "Untuk memeriksa jenis objek apa yang ditugaskan ke variabel menggunakan fungsi `type()`. Tipe data umum meliputi:\n",
    "* **int** (integer)\n",
    "* **float**\n",
    "* **str** (string)\n",
    "* **list**\n",
    "* **tuple**\n",
    "* **dict** (dictionary)\n",
    "* **set**\n",
    "* **bool** (Boolean True/False)"
   ]
  },
  {
   "cell_type": "code",
   "execution_count": 17,
   "id": "c587a780",
   "metadata": {},
   "outputs": [
    {
     "data": {
      "text/plain": [
       "float"
      ]
     },
     "execution_count": 17,
     "metadata": {},
     "output_type": "execute_result"
    }
   ],
   "source": [
    "type (a)"
   ]
  },
  {
   "cell_type": "code",
   "execution_count": 18,
   "id": "8e48301a",
   "metadata": {},
   "outputs": [],
   "source": [
    "a = {'Jakarta', 'Bandung'}"
   ]
  },
  {
   "cell_type": "code",
   "execution_count": 19,
   "id": "493b14c6",
   "metadata": {},
   "outputs": [
    {
     "data": {
      "text/plain": [
       "set"
      ]
     },
     "execution_count": 19,
     "metadata": {},
     "output_type": "execute_result"
    }
   ],
   "source": [
    "type (a)"
   ]
  },
  {
   "cell_type": "code",
   "execution_count": 20,
   "id": "ac833e6a",
   "metadata": {},
   "outputs": [],
   "source": [
    "a = (1,2,3)"
   ]
  },
  {
   "cell_type": "code",
   "execution_count": 21,
   "id": "0773ab5e",
   "metadata": {},
   "outputs": [
    {
     "data": {
      "text/plain": [
       "tuple"
      ]
     },
     "execution_count": 21,
     "metadata": {},
     "output_type": "execute_result"
    }
   ],
   "source": [
    "type(a)"
   ]
  }
 ],
 "metadata": {
  "kernelspec": {
   "display_name": "Python 3 (ipykernel)",
   "language": "python",
   "name": "python3"
  },
  "language_info": {
   "codemirror_mode": {
    "name": "ipython",
    "version": 3
   },
   "file_extension": ".py",
   "mimetype": "text/x-python",
   "name": "python",
   "nbconvert_exporter": "python",
   "pygments_lexer": "ipython3",
   "version": "3.9.7"
  }
 },
 "nbformat": 4,
 "nbformat_minor": 5
}
